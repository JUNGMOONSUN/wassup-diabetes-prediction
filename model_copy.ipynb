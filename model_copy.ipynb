{
 "cells": [
  {
   "cell_type": "code",
   "execution_count": null,
   "id": "2aa4e75c-8a27-443d-9c44-51947af61096",
   "metadata": {},
   "outputs": [],
   "source": [
    "import numpy as np\n",
    "import pandas as pd\n",
    "import torch\n",
    "from torch.autograd import Variable\n",
    "from sklearn.model_selection import KFold\n",
    "import matplotlib.pyplot as plt"
   ]
  },
  {
   "cell_type": "code",
   "execution_count": null,
   "id": "d244fd5b",
   "metadata": {},
   "outputs": [],
   "source": [
    "train_df = pd.read_csv(\"./data/train_df.csv\", index_col=0)\n",
    "val_df = pd.read_csv(\"./data/validation_df.csv\", index_col=0)\n",
    "test_df = pd.read_csv(\"./data/test_df.csv\", index_col=0)"
   ]
  },
  {
   "cell_type": "code",
   "execution_count": null,
   "id": "ac61b3ab",
   "metadata": {},
   "outputs": [],
   "source": [
    "train_df.D.value_counts()\n",
    "# test_df.D.value_counts()\n",
    "# val_df.D.value_counts()"
   ]
  },
  {
   "cell_type": "code",
   "execution_count": null,
   "id": "e5d30b40",
   "metadata": {},
   "outputs": [],
   "source": [
    "train_df[\"OLIG_PROTE_CD\"].unique()"
   ]
  },
  {
   "cell_type": "code",
   "execution_count": null,
   "id": "cb52cfdf",
   "metadata": {},
   "outputs": [],
   "source": [
    "train_df[\"liver\"] = np.where(train_df[\"SGPT_ALT\"] > 40, 1, 0)\n",
    "train_df[\"obesity\"] = np.where(train_df[\"BMI\"] > 30, 1, 0)\n",
    "train_df[\"Hypertension\"] = np.where(train_df[\"BP_LWST\"] >= 90, 1, 0)"
   ]
  },
  {
   "cell_type": "code",
   "execution_count": null,
   "id": "56265dd2",
   "metadata": {},
   "outputs": [],
   "source": [
    "data = train_df.drop([\"BLDS\", \"D\"], axis=1)\n",
    "target = train_df[\"D\"]"
   ]
  },
  {
   "cell_type": "code",
   "execution_count": null,
   "id": "97edb9f9",
   "metadata": {},
   "outputs": [],
   "source": [
    "data.head()"
   ]
  },
  {
   "cell_type": "code",
   "execution_count": null,
   "id": "8e5abad4",
   "metadata": {},
   "outputs": [],
   "source": [
    "data[\"obesity\"].value_counts()"
   ]
  },
  {
   "cell_type": "code",
   "execution_count": null,
   "id": "e1547aab",
   "metadata": {},
   "outputs": [],
   "source": [
    "target.head()"
   ]
  },
  {
   "cell_type": "code",
   "execution_count": null,
   "id": "a1b287d4",
   "metadata": {},
   "outputs": [],
   "source": [
    "import xgboost\n",
    "import matplotlib.pyplot as plt\n",
    "from sklearn.model_selection import train_test_split\n",
    "from sklearn.metrics import explained_variance_score\n",
    "\n",
    "\n",
    "X_train, X_test, y_train, y_test = train_test_split(data, target, test_size=0.1)\n",
    "xgb_model = xgboost.XGBClassifier(\n",
    "    n_estimators=800,\n",
    "    learning_rate=0.08,\n",
    "    gamma=0,\n",
    "    subsample=0.75,\n",
    "    colsample_bytree=0.8,\n",
    "    max_depth=7,\n",
    ")\n",
    "\n",
    "print(len(X_train), len(X_test))\n",
    "xgb_model.fit(X_train, y_train)"
   ]
  },
  {
   "cell_type": "code",
   "execution_count": null,
   "id": "8e3d26d6",
   "metadata": {},
   "outputs": [],
   "source": [
    "xgboost.plot_importance(xgb_model)"
   ]
  },
  {
   "cell_type": "code",
   "execution_count": null,
   "id": "732f2b26",
   "metadata": {},
   "outputs": [],
   "source": [
    "predictions = xgb_model.predict(X_test)\n",
    "predictions"
   ]
  },
  {
   "cell_type": "code",
   "execution_count": null,
   "id": "b260411f",
   "metadata": {},
   "outputs": [],
   "source": [
    "r_sq = xgb_model.score(X_train, y_train)\n",
    "print(r_sq)\n",
    "print(explained_variance_score(predictions, y_test))"
   ]
  },
  {
   "cell_type": "code",
   "execution_count": null,
   "id": "1e92f20c",
   "metadata": {},
   "outputs": [],
   "source": [
    "from sklearn.neural_network import MLPClassifier\n",
    "import sklearn.metrics as metrics\n",
    "from sklearn.metrics import ConfusionMatrixDisplay, confusion_matrix"
   ]
  },
  {
   "cell_type": "code",
   "execution_count": null,
   "id": "feba390e",
   "metadata": {},
   "outputs": [],
   "source": [
    "\"\"\"\n",
    "clf = MLPClassifier(solver = \"adam\", hidden_layer_sizes = 100, random_state = 1)\n",
    "clf.fit(X_train,y_train)\n",
    "clf.predict(X_test)\n",
    "r_sq = clf.score(X_train,y_train)\n",
    "print(r_sq)\n",
    "\"\"\""
   ]
  },
  {
   "cell_type": "code",
   "execution_count": null,
   "id": "592c6ae1",
   "metadata": {},
   "outputs": [],
   "source": [
    "len(predictions)\n",
    "len(y_test)"
   ]
  },
  {
   "cell_type": "code",
   "execution_count": null,
   "id": "f4884be7",
   "metadata": {},
   "outputs": [],
   "source": [
    "cm = confusion_matrix(y_test, predictions)\n",
    "print(cm)\n",
    "\n",
    "# Calculate the accuracy.\n",
    "accuracy = metrics.accuracy_score(y_test, predictions)\n",
    "\n",
    "# Calculate the precision.\n",
    "precision = metrics.precision_score(y_test, predictions)\n",
    "\n",
    "# Calculate the recall.\n",
    "recall = metrics.recall_score(y_test, predictions)\n",
    "\n",
    "# Calculate the F1 score.\n",
    "f1_score = metrics.f1_score(y_test, predictions)\n",
    "\n",
    "# Print the results.\n",
    "print(\"Accuracy:\", accuracy)\n",
    "print(\"Precision:\", precision)\n",
    "print(\"Recall:\", recall)\n",
    "print(\"F1 score:\", f1_score)"
   ]
  },
  {
   "cell_type": "code",
   "execution_count": null,
   "id": "84dd715d",
   "metadata": {},
   "outputs": [],
   "source": [
    "val_df.info()"
   ]
  },
  {
   "cell_type": "code",
   "execution_count": null,
   "id": "d4ed38b3",
   "metadata": {},
   "outputs": [],
   "source": [
    "val_df[\"D\"].value_counts()"
   ]
  },
  {
   "cell_type": "code",
   "execution_count": null,
   "id": "7ca716f8",
   "metadata": {},
   "outputs": [],
   "source": [
    "val_target = val_df[\"D\"]\n",
    "val_target"
   ]
  },
  {
   "cell_type": "code",
   "execution_count": null,
   "id": "ea696aa3",
   "metadata": {},
   "outputs": [],
   "source": [
    "import seaborn as sns\n",
    "\n",
    "plt.figure(figsize=(18, 8))\n",
    "corr = train_df.corr()\n",
    "# print(corr)\n",
    "sns.heatmap(corr, annot=True, square=False, vmin=-0.6, vmax=1.0)"
   ]
  }
 ],
 "metadata": {
  "kernelspec": {
   "display_name": "Python 3 (ipykernel)",
   "language": "python",
   "name": "python3"
  },
  "language_info": {
   "codemirror_mode": {
    "name": "ipython",
    "version": 3
   },
   "file_extension": ".py",
   "mimetype": "text/x-python",
   "name": "python",
   "nbconvert_exporter": "python",
   "pygments_lexer": "ipython3",
   "version": "3.10.13"
  }
 },
 "nbformat": 4,
 "nbformat_minor": 5
}
