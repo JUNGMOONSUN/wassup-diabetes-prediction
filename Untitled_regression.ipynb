{
 "cells": [
  {
   "cell_type": "code",
   "execution_count": 1,
   "id": "2aa4e75c-8a27-443d-9c44-51947af61096",
   "metadata": {},
   "outputs": [],
   "source": [
    "import numpy as np\n",
    "import pandas as pd\n",
    "import torch\n",
    "from torch.autograd import Variable\n",
    "from sklearn.model_selection import KFold\n",
    "import matplotlib.pyplot as plt"
   ]
  },
  {
   "cell_type": "code",
   "execution_count": 2,
   "id": "d244fd5b",
   "metadata": {},
   "outputs": [],
   "source": [
    "# CSV 파일에서 학습, 검증, 테스트 데이터를 불러옵니다.\n",
    "train_df = pd.read_csv(\"./data/train_df.csv\", index_col=0)\n",
    "val_df = pd.read_csv(\"./data/validation_df.csv\", index_col=0)\n",
    "test_df = pd.read_csv(\"./data/test_df.csv\", index_col=0)"
   ]
  },
  {
   "cell_type": "code",
   "execution_count": 3,
   "id": "ac61b3ab",
   "metadata": {},
   "outputs": [
    {
     "data": {
      "text/html": [
       "<div>\n",
       "<style scoped>\n",
       "    .dataframe tbody tr th:only-of-type {\n",
       "        vertical-align: middle;\n",
       "    }\n",
       "\n",
       "    .dataframe tbody tr th {\n",
       "        vertical-align: top;\n",
       "    }\n",
       "\n",
       "    .dataframe thead th {\n",
       "        text-align: right;\n",
       "    }\n",
       "</style>\n",
       "<table border=\"1\" class=\"dataframe\">\n",
       "  <thead>\n",
       "    <tr style=\"text-align: right;\">\n",
       "      <th></th>\n",
       "      <th>BLDS</th>\n",
       "      <th>SEX</th>\n",
       "      <th>AGE_GROUP</th>\n",
       "      <th>BP_LWST</th>\n",
       "      <th>TRIGLYCERIDE</th>\n",
       "      <th>HDL_CHOLE</th>\n",
       "      <th>LDL_CHOLE</th>\n",
       "      <th>HMG</th>\n",
       "      <th>OLIG_PROTE_CD</th>\n",
       "      <th>CREATININE</th>\n",
       "      <th>SGPT_ALT</th>\n",
       "      <th>GAMMA_GTP</th>\n",
       "      <th>SMK_STAT_TYPE_CD</th>\n",
       "      <th>D</th>\n",
       "      <th>BMI</th>\n",
       "    </tr>\n",
       "  </thead>\n",
       "  <tbody>\n",
       "    <tr>\n",
       "      <th>0</th>\n",
       "      <td>144.0</td>\n",
       "      <td>1</td>\n",
       "      <td>10</td>\n",
       "      <td>74.0</td>\n",
       "      <td>136.0</td>\n",
       "      <td>44.0</td>\n",
       "      <td>121.0</td>\n",
       "      <td>14.0</td>\n",
       "      <td>1.0</td>\n",
       "      <td>1.0</td>\n",
       "      <td>34.0</td>\n",
       "      <td>21.0</td>\n",
       "      <td>1.0</td>\n",
       "      <td>1</td>\n",
       "      <td>24.973985</td>\n",
       "    </tr>\n",
       "    <tr>\n",
       "      <th>1</th>\n",
       "      <td>90.0</td>\n",
       "      <td>2</td>\n",
       "      <td>9</td>\n",
       "      <td>92.0</td>\n",
       "      <td>129.0</td>\n",
       "      <td>66.0</td>\n",
       "      <td>113.0</td>\n",
       "      <td>12.0</td>\n",
       "      <td>3.0</td>\n",
       "      <td>0.0</td>\n",
       "      <td>17.0</td>\n",
       "      <td>27.0</td>\n",
       "      <td>1.0</td>\n",
       "      <td>0</td>\n",
       "      <td>29.296875</td>\n",
       "    </tr>\n",
       "    <tr>\n",
       "      <th>2</th>\n",
       "      <td>133.0</td>\n",
       "      <td>2</td>\n",
       "      <td>17</td>\n",
       "      <td>74.0</td>\n",
       "      <td>96.0</td>\n",
       "      <td>64.0</td>\n",
       "      <td>75.0</td>\n",
       "      <td>14.0</td>\n",
       "      <td>1.0</td>\n",
       "      <td>0.0</td>\n",
       "      <td>20.0</td>\n",
       "      <td>24.0</td>\n",
       "      <td>1.0</td>\n",
       "      <td>1</td>\n",
       "      <td>30.915577</td>\n",
       "    </tr>\n",
       "    <tr>\n",
       "      <th>3</th>\n",
       "      <td>141.0</td>\n",
       "      <td>1</td>\n",
       "      <td>12</td>\n",
       "      <td>60.0</td>\n",
       "      <td>144.0</td>\n",
       "      <td>35.0</td>\n",
       "      <td>60.0</td>\n",
       "      <td>13.0</td>\n",
       "      <td>1.0</td>\n",
       "      <td>0.0</td>\n",
       "      <td>14.0</td>\n",
       "      <td>22.0</td>\n",
       "      <td>3.0</td>\n",
       "      <td>1</td>\n",
       "      <td>23.437500</td>\n",
       "    </tr>\n",
       "    <tr>\n",
       "      <th>4</th>\n",
       "      <td>129.0</td>\n",
       "      <td>1</td>\n",
       "      <td>14</td>\n",
       "      <td>51.0</td>\n",
       "      <td>65.0</td>\n",
       "      <td>43.0</td>\n",
       "      <td>76.0</td>\n",
       "      <td>12.0</td>\n",
       "      <td>1.0</td>\n",
       "      <td>1.0</td>\n",
       "      <td>16.0</td>\n",
       "      <td>22.0</td>\n",
       "      <td>1.0</td>\n",
       "      <td>1</td>\n",
       "      <td>22.038567</td>\n",
       "    </tr>\n",
       "  </tbody>\n",
       "</table>\n",
       "</div>"
      ],
      "text/plain": [
       "    BLDS  SEX  AGE_GROUP  BP_LWST  TRIGLYCERIDE  HDL_CHOLE  LDL_CHOLE   HMG  \\\n",
       "0  144.0    1         10     74.0         136.0       44.0      121.0  14.0   \n",
       "1   90.0    2          9     92.0         129.0       66.0      113.0  12.0   \n",
       "2  133.0    2         17     74.0          96.0       64.0       75.0  14.0   \n",
       "3  141.0    1         12     60.0         144.0       35.0       60.0  13.0   \n",
       "4  129.0    1         14     51.0          65.0       43.0       76.0  12.0   \n",
       "\n",
       "   OLIG_PROTE_CD  CREATININE  SGPT_ALT  GAMMA_GTP  SMK_STAT_TYPE_CD  D  \\\n",
       "0            1.0         1.0      34.0       21.0               1.0  1   \n",
       "1            3.0         0.0      17.0       27.0               1.0  0   \n",
       "2            1.0         0.0      20.0       24.0               1.0  1   \n",
       "3            1.0         0.0      14.0       22.0               3.0  1   \n",
       "4            1.0         1.0      16.0       22.0               1.0  1   \n",
       "\n",
       "         BMI  \n",
       "0  24.973985  \n",
       "1  29.296875  \n",
       "2  30.915577  \n",
       "3  23.437500  \n",
       "4  22.038567  "
      ]
     },
     "execution_count": 3,
     "metadata": {},
     "output_type": "execute_result"
    }
   ],
   "source": [
    "# 학습 데이터의 당뇨 유무 분포를 확인합니다.\n",
    "train_df.D.value_counts()\n",
    "test_df.D.value_counts()\n",
    "#val_df.D.value_counts()\n",
    "train_df.head()"
   ]
  },
  {
   "cell_type": "code",
   "execution_count": 21,
   "id": "e5d30b40",
   "metadata": {},
   "outputs": [
    {
     "data": {
      "image/png": "[encoded data removed]",
      "text/plain": [
       "<Figure size 640x480 with 1 Axes>"
      ]
     },
     "metadata": {},
     "output_type": "display_data"
    }
   ],
   "source": [
    "# 'BLDS' 열 값의 분포를 시각화합니다.\n",
    "plt.hist(train_df.BLDS, bins=500)\n",
    "plt.xlabel('BLDS')\n",
    "plt.ylabel('Count')\n",
    "plt.title('Distribution of BLDS in the Training Data')\n",
    "plt.show()"
   ]
  },
  {
   "cell_type": "code",
   "execution_count": 5,
   "metadata": {},
   "outputs": [],
   "source": [
    "# 학습 데이터의 독립 변수와 종속 변수를 나눕니다.\n",
    "data = train_df.drop(['BLDS', 'D'], axis=1)\n",
    "target = train_df['BLDS']"
   ]
  },
  {
   "cell_type": "code",
   "execution_count": 51,
   "metadata": {},
   "outputs": [],
   "source": [
    "# data = data.drop(['TRIGLYCERIDE', 'HDL_CHOLE', 'LDL_CHOLE','BMI','GAMMA_GTP', 'BP_LWST','SEX', 'AGE_GROUP','SMK_STAT_TYPE_CD'], axis=1)"
   ]
  },
  {
   "cell_type": "code",
   "execution_count": 6,
   "metadata": {},
   "outputs": [],
   "source": [
    "# 검증 데이터의 독립 변수와 종속 변수를 나눕니다.\n",
    "X_val = val_df.drop(['BLDS', 'D'], axis=1)\n",
    "y_val = val_df['BLDS']"
   ]
  },
  {
   "cell_type": "code",
   "execution_count": null,
   "metadata": {},
   "outputs": [],
   "source": [
    "# X_val = X_val.drop(['TRIGLYCERIDE', 'HDL_CHOLE', 'LDL_CHOLE','BMI','GAMMA_GTP', 'BP_LWST','SEX', 'AGE_GROUP','SMK_STAT_TYPE_CD'], axis=1)"
   ]
  },
  {
   "cell_type": "code",
   "execution_count": 7,
   "id": "97edb9f9",
   "metadata": {},
   "outputs": [
    {
     "data": {
      "text/html": [
       "<div>\n",
       "<style scoped>\n",
       "    .dataframe tbody tr th:only-of-type {\n",
       "        vertical-align: middle;\n",
       "    }\n",
       "\n",
       "    .dataframe tbody tr th {\n",
       "        vertical-align: top;\n",
       "    }\n",
       "\n",
       "    .dataframe thead th {\n",
       "        text-align: right;\n",
       "    }\n",
       "</style>\n",
       "<table border=\"1\" class=\"dataframe\">\n",
       "  <thead>\n",
       "    <tr style=\"text-align: right;\">\n",
       "      <th></th>\n",
       "      <th>SEX</th>\n",
       "      <th>AGE_GROUP</th>\n",
       "      <th>BP_LWST</th>\n",
       "      <th>TRIGLYCERIDE</th>\n",
       "      <th>HDL_CHOLE</th>\n",
       "      <th>LDL_CHOLE</th>\n",
       "      <th>HMG</th>\n",
       "      <th>OLIG_PROTE_CD</th>\n",
       "      <th>CREATININE</th>\n",
       "      <th>SGPT_ALT</th>\n",
       "      <th>GAMMA_GTP</th>\n",
       "      <th>SMK_STAT_TYPE_CD</th>\n",
       "      <th>BMI</th>\n",
       "    </tr>\n",
       "  </thead>\n",
       "  <tbody>\n",
       "    <tr>\n",
       "      <th>0</th>\n",
       "      <td>1</td>\n",
       "      <td>10</td>\n",
       "      <td>74.0</td>\n",
       "      <td>136.0</td>\n",
       "      <td>44.0</td>\n",
       "      <td>121.0</td>\n",
       "      <td>14.0</td>\n",
       "      <td>1.0</td>\n",
       "      <td>1.0</td>\n",
       "      <td>34.0</td>\n",
       "      <td>21.0</td>\n",
       "      <td>1.0</td>\n",
       "      <td>24.973985</td>\n",
       "    </tr>\n",
       "    <tr>\n",
       "      <th>1</th>\n",
       "      <td>2</td>\n",
       "      <td>9</td>\n",
       "      <td>92.0</td>\n",
       "      <td>129.0</td>\n",
       "      <td>66.0</td>\n",
       "      <td>113.0</td>\n",
       "      <td>12.0</td>\n",
       "      <td>3.0</td>\n",
       "      <td>0.0</td>\n",
       "      <td>17.0</td>\n",
       "      <td>27.0</td>\n",
       "      <td>1.0</td>\n",
       "      <td>29.296875</td>\n",
       "    </tr>\n",
       "    <tr>\n",
       "      <th>2</th>\n",
       "      <td>2</td>\n",
       "      <td>17</td>\n",
       "      <td>74.0</td>\n",
       "      <td>96.0</td>\n",
       "      <td>64.0</td>\n",
       "      <td>75.0</td>\n",
       "      <td>14.0</td>\n",
       "      <td>1.0</td>\n",
       "      <td>0.0</td>\n",
       "      <td>20.0</td>\n",
       "      <td>24.0</td>\n",
       "      <td>1.0</td>\n",
       "      <td>30.915577</td>\n",
       "    </tr>\n",
       "    <tr>\n",
       "      <th>3</th>\n",
       "      <td>1</td>\n",
       "      <td>12</td>\n",
       "      <td>60.0</td>\n",
       "      <td>144.0</td>\n",
       "      <td>35.0</td>\n",
       "      <td>60.0</td>\n",
       "      <td>13.0</td>\n",
       "      <td>1.0</td>\n",
       "      <td>0.0</td>\n",
       "      <td>14.0</td>\n",
       "      <td>22.0</td>\n",
       "      <td>3.0</td>\n",
       "      <td>23.437500</td>\n",
       "    </tr>\n",
       "    <tr>\n",
       "      <th>4</th>\n",
       "      <td>1</td>\n",
       "      <td>14</td>\n",
       "      <td>51.0</td>\n",
       "      <td>65.0</td>\n",
       "      <td>43.0</td>\n",
       "      <td>76.0</td>\n",
       "      <td>12.0</td>\n",
       "      <td>1.0</td>\n",
       "      <td>1.0</td>\n",
       "      <td>16.0</td>\n",
       "      <td>22.0</td>\n",
       "      <td>1.0</td>\n",
       "      <td>22.038567</td>\n",
       "    </tr>\n",
       "  </tbody>\n",
       "</table>\n",
       "</div>"
      ],
      "text/plain": [
       "   SEX  AGE_GROUP  BP_LWST  TRIGLYCERIDE  HDL_CHOLE  LDL_CHOLE   HMG  \\\n",
       "0    1         10     74.0         136.0       44.0      121.0  14.0   \n",
       "1    2          9     92.0         129.0       66.0      113.0  12.0   \n",
       "2    2         17     74.0          96.0       64.0       75.0  14.0   \n",
       "3    1         12     60.0         144.0       35.0       60.0  13.0   \n",
       "4    1         14     51.0          65.0       43.0       76.0  12.0   \n",
       "\n",
       "   OLIG_PROTE_CD  CREATININE  SGPT_ALT  GAMMA_GTP  SMK_STAT_TYPE_CD        BMI  \n",
       "0            1.0         1.0      34.0       21.0               1.0  24.973985  \n",
       "1            3.0         0.0      17.0       27.0               1.0  29.296875  \n",
       "2            1.0         0.0      20.0       24.0               1.0  30.915577  \n",
       "3            1.0         0.0      14.0       22.0               3.0  23.437500  \n",
       "4            1.0         1.0      16.0       22.0               1.0  22.038567  "
      ]
     },
     "execution_count": 7,
     "metadata": {},
     "output_type": "execute_result"
    }
   ],
   "source": [
    "# XGBoost 모델을 학습하기 위해 사용할 학습 데이터를 확인합니다.\n",
    "data.head()"
   ]
  },
  {
   "cell_type": "code",
   "execution_count": 8,
   "id": "e1547aab",
   "metadata": {},
   "outputs": [
    {
     "data": {
      "text/plain": [
       "(63507, 13)"
      ]
     },
     "execution_count": 8,
     "metadata": {},
     "output_type": "execute_result"
    }
   ],
   "source": [
    "# 학습 데이터의 종속 변수를 확인합니다.\n",
    "target.head()\n",
    "target.value_counts()\n",
    "data.shape\n",
    "data.shape"
   ]
  },
  {
   "cell_type": "code",
   "execution_count": 9,
   "metadata": {},
   "outputs": [],
   "source": [
    "import xgboost\n",
    "import matplotlib.pyplot as plt\n",
    "from sklearn.model_selection import train_test_split\n",
    "from sklearn.metrics import explained_variance_score"
   ]
  },
  {
   "cell_type": "code",
   "execution_count": 10,
   "id": "a1b287d4",
   "metadata": {},
   "outputs": [
    {
     "name": "stdout",
     "output_type": "stream",
     "text": [
      "57156 6351\n"
     ]
    },
    {
     "data": {
      "text/plain": [
       "XGBRegressor(base_score=None, booster=None, callbacks=None,\n",
       "             colsample_bylevel=None, colsample_bynode=None,\n",
       "             colsample_bytree=0.8, device=None, early_stopping_rounds=None,\n",
       "             enable_categorical=False, eval_metric=None, feature_types=None,\n",
       "             gamma=0, grow_policy=None, importance_type=None,\n",
       "             interaction_constraints=None, learning_rate=0.08, max_bin=None,\n",
       "             max_cat_threshold=None, max_cat_to_onehot=None,\n",
       "             max_delta_step=None, max_depth=7, max_leaves=None,\n",
       "             min_child_weight=None, missing=nan, monotone_constraints=None,\n",
       "             multi_strategy=None, n_estimators=100, n_jobs=None,\n",
       "             num_parallel_tree=None, random_state=None, ...)"
      ]
     },
     "execution_count": 10,
     "metadata": {},
     "output_type": "execute_result"
    }
   ],
   "source": [
    "# XGBoost 회귀 모델을 초기화하고 학습 데이터로 학습합니다.\n",
    "X_train, X_test, y_train, y_test = train_test_split(data, target ,test_size=0.1)\n",
    "xgb_model = xgboost.XGBRegressor(n_estimators=100, learning_rate=0.08, gamma=0, subsample=0.75,\n",
    "                           colsample_bytree=0.8, max_depth=7)\n",
    "\n",
    "print(len(X_train), len(X_test))\n",
    "xgb_model.fit(X_train,y_train)"
   ]
  },
  {
   "cell_type": "code",
   "execution_count": 11,
   "id": "8e3d26d6",
   "metadata": {},
   "outputs": [
    {
     "data": {
      "text/plain": [
       "<Axes: title={'center': 'Feature importance'}, xlabel='F score', ylabel='Features'>"
      ]
     },
     "execution_count": 11,
     "metadata": {},
     "output_type": "execute_result"
    },
    {
     "data": {
      "image/png": "[encoded data removed]",
      "text/plain": [
       "<Figure size 640x480 with 1 Axes>"
      ]
     },
     "metadata": {},
     "output_type": "display_data"
    }
   ],
   "source": [
    "# XGBoost 모델의 피처 중요도를 시각화합니다.\n",
    "xgboost.plot_importance(xgb_model)"
   ]
  },
  {
   "cell_type": "code",
   "execution_count": 12,
   "id": "732f2b26",
   "metadata": {},
   "outputs": [
    {
     "data": {
      "text/plain": [
       "array([174.4254  , 167.60355 ,  93.004715, ...,  95.404015, 108.069275,\n",
       "       158.6027  ], dtype=float32)"
      ]
     },
     "execution_count": 12,
     "metadata": {},
     "output_type": "execute_result"
    }
   ],
   "source": [
    "# 테스트 데이터에 대한 예측을 수행합니다.\n",
    "predictions = xgb_model.predict(X_test)\n",
    "predictions"
   ]
  },
  {
   "cell_type": "code",
   "execution_count": 13,
   "id": "6f968ec8",
   "metadata": {},
   "outputs": [
    {
     "data": {
      "text/plain": [
       "807569.6"
      ]
     },
     "execution_count": 13,
     "metadata": {},
     "output_type": "execute_result"
    }
   ],
   "source": [
    "# 예측값의 합을 계산합니다.\n",
    "predictions.sum()"
   ]
  },
  {
   "cell_type": "code",
   "execution_count": 14,
   "id": "b260411f",
   "metadata": {},
   "outputs": [
    {
     "name": "stdout",
     "output_type": "stream",
     "text": [
      "0.5748528365607468\n",
      "-0.06187797013298968\n"
     ]
    }
   ],
   "source": [
    "# 모델의 학습 데이터에 대한 결정 계수와 설명된 분산을 출력합니다.\n",
    "r_sq = xgb_model.score(X_train, y_train)\n",
    "print(r_sq)\n",
    "print(explained_variance_score(predictions,y_test))"
   ]
  },
  {
   "cell_type": "code",
   "execution_count": 15,
   "metadata": {},
   "outputs": [
    {
     "data": {
      "text/plain": [
       "array([ 93.21757 , 103.05396 , 151.50804 , ..., 155.68124 , 101.33527 ,\n",
       "       100.251076], dtype=float32)"
      ]
     },
     "execution_count": 15,
     "metadata": {},
     "output_type": "execute_result"
    }
   ],
   "source": [
    "# 검증 데이터에 대한 예측을 수행하고, 모델의 성능을 평가합니다.\n",
    "predictionsv = xgb_model.predict(X_val)\n",
    "predictionsv"
   ]
  },
  {
   "cell_type": "code",
   "execution_count": 16,
   "metadata": {},
   "outputs": [
    {
     "name": "stdout",
     "output_type": "stream",
     "text": [
      "0.45859139999063536\n",
      "-0.16094556000693006\n"
     ]
    }
   ],
   "source": [
    "r_sq = xgb_model.score(X_val, y_val)\n",
    "print(r_sq)\n",
    "print(explained_variance_score(predictionsv,y_val))"
   ]
  },
  {
   "cell_type": "code",
   "execution_count": 36,
   "metadata": {},
   "outputs": [],
   "source": [
    "from sklearn.neural_network import MLPClassifier\n",
    "import sklearn.metrics as metrics\n",
    "from sklearn.metrics import confusion_matrix, ConfusionMatrixDisplay"
   ]
  },
  {
   "cell_type": "code",
   "execution_count": 26,
   "id": "feba390e",
   "metadata": {},
   "outputs": [
    {
     "name": "stderr",
     "output_type": "stream",
     "text": [
      "/home/aimod1/miniconda3/envs/MathAI/lib/python3.10/site-packages/sklearn/utils/validation.py:623: FutureWarning: is_sparse is deprecated and will be removed in a future version. Check `isinstance(dtype, pd.SparseDtype)` instead.\n",
      "  if not hasattr(array, \"sparse\") and array.dtypes.apply(is_sparse).any():\n"
     ]
    },
    {
     "name": "stdout",
     "output_type": "stream",
     "text": [
      "0.9173840016796136\n"
     ]
    },
    {
     "name": "stderr",
     "output_type": "stream",
     "text": [
      "/home/aimod1/miniconda3/envs/MathAI/lib/python3.10/site-packages/sklearn/neural_network/_multilayer_perceptron.py:699: UserWarning: Training interrupted by user.\n",
      "  warnings.warn(\"Training interrupted by user.\")\n",
      "/home/aimod1/miniconda3/envs/MathAI/lib/python3.10/site-packages/sklearn/utils/validation.py:623: FutureWarning: is_sparse is deprecated and will be removed in a future version. Check `isinstance(dtype, pd.SparseDtype)` instead.\n",
      "  if not hasattr(array, \"sparse\") and array.dtypes.apply(is_sparse).any():\n",
      "/home/aimod1/miniconda3/envs/MathAI/lib/python3.10/site-packages/sklearn/utils/validation.py:623: FutureWarning: is_sparse is deprecated and will be removed in a future version. Check `isinstance(dtype, pd.SparseDtype)` instead.\n",
      "  if not hasattr(array, \"sparse\") and array.dtypes.apply(is_sparse).any():\n"
     ]
    }
   ],
   "source": [
    "# MLPClassifier를 초기화하고 학습 데이터로 학습합니다.\n",
    "rg = MLPClassifier(solver = \"adam\", hidden_layer_sizes = 100, random_state = 1)\n",
    "rg.fit(X_train,y_train)\n",
    "rg.predict(X_test)\n",
    "r_sq = rg.score(X_train,y_train)\n",
    "print(r_sq)"
   ]
  },
  {
   "cell_type": "code",
   "execution_count": 63,
   "metadata": {},
   "outputs": [
    {
     "data": {
      "text/plain": [
       "6351"
      ]
     },
     "execution_count": 63,
     "metadata": {},
     "output_type": "execute_result"
    }
   ],
   "source": [
    "len(predictions)\n",
    "len(y_test)"
   ]
  },
  {
   "cell_type": "code",
   "execution_count": 99,
   "id": "f4884be7",
   "metadata": {},
   "outputs": [
    {
     "name": "stdout",
     "output_type": "stream",
     "text": [
      "[[1922 1247]\n",
      " [1002 2180]]\n",
      "Accuracy: 0.6458825381829633\n",
      "Precision: 0.6361248905748468\n",
      "Recall: 0.6851037083595223\n",
      "F1 score: 0.6597064608866697\n"
     ]
    }
   ],
   "source": [
    "cm = confusion_matrix(y_test, predictions)\n",
    "print(cm)\n",
    "\n",
    "# Calculate the accuracy.\n",
    "accuracy = metrics.accuracy_score(y_test, predictions)\n",
    "\n",
    "# Calculate the precision.\n",
    "precision = metrics.precision_score(y_test, predictions)\n",
    "\n",
    "# Calculate the recall.\n",
    "recall = metrics.recall_score(y_test, predictions)\n",
    "\n",
    "# Calculate the F1 score.\n",
    "f1_score = metrics.f1_score(y_test, predictions)\n",
    "\n",
    "# Print the results.\n",
    "print('Accuracy:', accuracy)\n",
    "print('Precision:', precision)\n",
    "print('Recall:', recall)\n",
    "print('F1 score:', f1_score)"
   ]
  },
  {
   "cell_type": "code",
   "execution_count": 100,
   "metadata": {},
   "outputs": [
    {
     "data": {
      "image/png": "[encoded data removed]",
      "text/plain": [
       "<Figure size 640x480 with 2 Axes>"
      ]
     },
     "metadata": {},
     "output_type": "display_data"
    }
   ],
   "source": [
    "disp = ConfusionMatrixDisplay(confusion_matrix=cm,\n",
    "                               display_labels=xgb_model.classes_)\n",
    "disp.plot()\n",
    "plt.show()"
   ]
  },
  {
   "cell_type": "code",
   "execution_count": 101,
   "metadata": {},
   "outputs": [
    {
     "name": "stdout",
     "output_type": "stream",
     "text": [
      "[[2951 2081]\n",
      " [1537 3426]]\n",
      "Accuracy: 0.6380190095047523\n",
      "Precision: 0.6221173052478663\n",
      "Recall: 0.690308281281483\n",
      "F1 score: 0.6544412607449858\n"
     ]
    }
   ],
   "source": [
    "cm = confusion_matrix(y_val, predictionsv)\n",
    "print(cm)\n",
    "\n",
    "# Calculate the accuracy.\n",
    "accuracy = metrics.accuracy_score(y_val, predictionsv)\n",
    "\n",
    "# Calculate the precision.\n",
    "precision = metrics.precision_score(y_val, predictionsv)\n",
    "\n",
    "# Calculate the recall.\n",
    "recall = metrics.recall_score(y_val, predictionsv)\n",
    "\n",
    "# Calculate the F1 score.\n",
    "f1_score = metrics.f1_score(y_val, predictionsv)\n",
    "\n",
    "# Print the results.\n",
    "print('Accuracy:', accuracy)\n",
    "print('Precision:', precision)\n",
    "print('Recall:', recall)\n",
    "print('F1 score:', f1_score)"
   ]
  }
 ],
 "metadata": {
  "kernelspec": {
   "display_name": "Python 3 (ipykernel)",
   "language": "python",
   "name": "python3"
  },
  "language_info": {
   "codemirror_mode": {
    "name": "ipython",
    "version": 3
   },
   "file_extension": ".py",
   "mimetype": "text/x-python",
   "name": "python",
   "nbconvert_exporter": "python",
   "pygments_lexer": "ipython3",
   "version": "3.10.13"
  }
 },
 "nbformat": 4,
 "nbformat_minor": 5
}
