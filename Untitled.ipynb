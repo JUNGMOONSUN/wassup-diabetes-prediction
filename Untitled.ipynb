{
 "cells": [
  {
   "cell_type": "code",
   "execution_count": 20,
   "id": "2aa4e75c-8a27-443d-9c44-51947af61096",
   "metadata": {},
   "outputs": [],
   "source": [
    "import numpy as np\n",
    "import pandas as pd\n",
    "import torch\n",
    "from torch.autograd import Variable\n",
    "from sklearn.model_selection import KFold\n",
    "import matplotlib.pyplot as plt"
   ]
  },
  {
   "cell_type": "code",
   "execution_count": 21,
   "id": "d244fd5b",
   "metadata": {},
   "outputs": [],
   "source": [
    "train_df = pd.read_csv(\"./data/train_df.csv\", index_col=0)\n",
    "val_df = pd.read_csv(\"./data/validation_df.csv\", index_col=0)\n",
    "test_df = pd.read_csv(\"./data/test_df.csv\", index_col=0)"
   ]
  },
  {
   "cell_type": "code",
   "execution_count": 22,
   "id": "ac61b3ab",
   "metadata": {},
   "outputs": [
    {
     "data": {
      "text/html": [
       "<div>\n",
       "<style scoped>\n",
       "    .dataframe tbody tr th:only-of-type {\n",
       "        vertical-align: middle;\n",
       "    }\n",
       "\n",
       "    .dataframe tbody tr th {\n",
       "        vertical-align: top;\n",
       "    }\n",
       "\n",
       "    .dataframe thead th {\n",
       "        text-align: right;\n",
       "    }\n",
       "</style>\n",
       "<table border=\"1\" class=\"dataframe\">\n",
       "  <thead>\n",
       "    <tr style=\"text-align: right;\">\n",
       "      <th></th>\n",
       "      <th>BLDS</th>\n",
       "      <th>SEX</th>\n",
       "      <th>AGE_GROUP</th>\n",
       "      <th>BP_LWST</th>\n",
       "      <th>TRIGLYCERIDE</th>\n",
       "      <th>HDL_CHOLE</th>\n",
       "      <th>LDL_CHOLE</th>\n",
       "      <th>HMG</th>\n",
       "      <th>OLIG_PROTE_CD</th>\n",
       "      <th>CREATININE</th>\n",
       "      <th>SGPT_ALT</th>\n",
       "      <th>GAMMA_GTP</th>\n",
       "      <th>SMK_STAT_TYPE_CD</th>\n",
       "      <th>D</th>\n",
       "      <th>BMI</th>\n",
       "    </tr>\n",
       "  </thead>\n",
       "  <tbody>\n",
       "    <tr>\n",
       "      <th>0</th>\n",
       "      <td>149.0</td>\n",
       "      <td>2</td>\n",
       "      <td>11</td>\n",
       "      <td>80.0</td>\n",
       "      <td>87.0</td>\n",
       "      <td>56.0</td>\n",
       "      <td>90.0</td>\n",
       "      <td>14.0</td>\n",
       "      <td>1.0</td>\n",
       "      <td>0.0</td>\n",
       "      <td>20.0</td>\n",
       "      <td>15.0</td>\n",
       "      <td>1.0</td>\n",
       "      <td>1</td>\n",
       "      <td>24.973985</td>\n",
       "    </tr>\n",
       "    <tr>\n",
       "      <th>1</th>\n",
       "      <td>130.0</td>\n",
       "      <td>2</td>\n",
       "      <td>12</td>\n",
       "      <td>61.0</td>\n",
       "      <td>147.0</td>\n",
       "      <td>59.0</td>\n",
       "      <td>160.0</td>\n",
       "      <td>13.0</td>\n",
       "      <td>1.0</td>\n",
       "      <td>0.0</td>\n",
       "      <td>69.0</td>\n",
       "      <td>58.0</td>\n",
       "      <td>1.0</td>\n",
       "      <td>1</td>\n",
       "      <td>22.892820</td>\n",
       "    </tr>\n",
       "    <tr>\n",
       "      <th>2</th>\n",
       "      <td>291.0</td>\n",
       "      <td>2</td>\n",
       "      <td>11</td>\n",
       "      <td>79.0</td>\n",
       "      <td>172.0</td>\n",
       "      <td>68.0</td>\n",
       "      <td>169.0</td>\n",
       "      <td>14.0</td>\n",
       "      <td>1.0</td>\n",
       "      <td>0.0</td>\n",
       "      <td>26.0</td>\n",
       "      <td>32.0</td>\n",
       "      <td>1.0</td>\n",
       "      <td>1</td>\n",
       "      <td>26.666667</td>\n",
       "    </tr>\n",
       "    <tr>\n",
       "      <th>3</th>\n",
       "      <td>99.0</td>\n",
       "      <td>2</td>\n",
       "      <td>13</td>\n",
       "      <td>83.0</td>\n",
       "      <td>55.0</td>\n",
       "      <td>67.0</td>\n",
       "      <td>63.0</td>\n",
       "      <td>15.0</td>\n",
       "      <td>1.0</td>\n",
       "      <td>0.0</td>\n",
       "      <td>17.0</td>\n",
       "      <td>13.0</td>\n",
       "      <td>1.0</td>\n",
       "      <td>0</td>\n",
       "      <td>24.444444</td>\n",
       "    </tr>\n",
       "    <tr>\n",
       "      <th>4</th>\n",
       "      <td>126.0</td>\n",
       "      <td>2</td>\n",
       "      <td>14</td>\n",
       "      <td>72.0</td>\n",
       "      <td>142.0</td>\n",
       "      <td>70.0</td>\n",
       "      <td>227.0</td>\n",
       "      <td>15.0</td>\n",
       "      <td>1.0</td>\n",
       "      <td>1.0</td>\n",
       "      <td>40.0</td>\n",
       "      <td>34.0</td>\n",
       "      <td>1.0</td>\n",
       "      <td>1</td>\n",
       "      <td>25.390625</td>\n",
       "    </tr>\n",
       "  </tbody>\n",
       "</table>\n",
       "</div>"
      ],
      "text/plain": [
       "    BLDS  SEX  AGE_GROUP  BP_LWST  TRIGLYCERIDE  HDL_CHOLE  LDL_CHOLE   HMG  \\\n",
       "0  149.0    2         11     80.0          87.0       56.0       90.0  14.0   \n",
       "1  130.0    2         12     61.0         147.0       59.0      160.0  13.0   \n",
       "2  291.0    2         11     79.0         172.0       68.0      169.0  14.0   \n",
       "3   99.0    2         13     83.0          55.0       67.0       63.0  15.0   \n",
       "4  126.0    2         14     72.0         142.0       70.0      227.0  15.0   \n",
       "\n",
       "   OLIG_PROTE_CD  CREATININE  SGPT_ALT  GAMMA_GTP  SMK_STAT_TYPE_CD  D  \\\n",
       "0            1.0         0.0      20.0       15.0               1.0  1   \n",
       "1            1.0         0.0      69.0       58.0               1.0  1   \n",
       "2            1.0         0.0      26.0       32.0               1.0  1   \n",
       "3            1.0         0.0      17.0       13.0               1.0  0   \n",
       "4            1.0         1.0      40.0       34.0               1.0  1   \n",
       "\n",
       "         BMI  \n",
       "0  24.973985  \n",
       "1  22.892820  \n",
       "2  26.666667  \n",
       "3  24.444444  \n",
       "4  25.390625  "
      ]
     },
     "execution_count": 22,
     "metadata": {},
     "output_type": "execute_result"
    }
   ],
   "source": [
    "# train_df 및 test_df의 클래스(D)별 데이터 개수를 확인하고, train_df의 처음 몇 개 행을 출력\n",
    "train_df.D.value_counts()\n",
    "test_df.D.value_counts()\n",
    "#val_df.D.value_counts()\n",
    "train_df.head()"
   ]
  },
  {
   "cell_type": "code",
   "execution_count": 23,
   "id": "e5d30b40",
   "metadata": {},
   "outputs": [
    {
     "data": {
      "text/plain": [
       "array([1., 4., 5., 2., 3., 6.])"
      ]
     },
     "execution_count": 23,
     "metadata": {},
     "output_type": "execute_result"
    }
   ],
   "source": [
    "# 'OLIG_PROTE_CD' 열의 고유값(unique values)을 확인합니다.\n",
    "train_df['OLIG_PROTE_CD'].unique()"
   ]
  },
  {
   "cell_type": "code",
   "execution_count": 24,
   "id": "56265dd2",
   "metadata": {},
   "outputs": [],
   "source": [
    "# 'BLDS'와 'D' 열을 제외한 나머지 열들을 feature 데이터 (data)로 설정하고, 'D' 열을 target 데이터 (target)로 설정\n",
    "data = train_df.drop(['BLDS', 'D'], axis=1)\n",
    "target = train_df['D']"
   ]
  },
  {
   "cell_type": "code",
   "execution_count": 25,
   "metadata": {},
   "outputs": [],
   "source": [
    "# 불필요한 열들을 feature 데이터에서 삭제합니다.\n",
    "data = data.drop(['TRIGLYCERIDE', 'HDL_CHOLE', 'LDL_CHOLE','BMI','GAMMA_GTP', 'BP_LWST','SEX', 'AGE_GROUP','SMK_STAT_TYPE_CD'], axis=1)"
   ]
  },
  {
   "cell_type": "code",
   "execution_count": 26,
   "metadata": {},
   "outputs": [],
   "source": [
    "# 'BLDS'와 'D' 열을 제외한 나머지 열들을 feature 데이터 (data)로 설정하고, 'D' 열을 target 데이터 (target)로 설정\n",
    "X_val = val_df.drop(['BLDS', 'D'], axis=1)\n",
    "y_val = val_df['D']"
   ]
  },
  {
   "cell_type": "code",
   "execution_count": 27,
   "metadata": {},
   "outputs": [],
   "source": [
    "X_val = X_val.drop(['TRIGLYCERIDE', 'HDL_CHOLE', 'LDL_CHOLE','BMI','GAMMA_GTP', 'BP_LWST','SEX', 'AGE_GROUP','SMK_STAT_TYPE_CD'], axis=1)"
   ]
  },
  {
   "cell_type": "code",
   "execution_count": 28,
   "id": "97edb9f9",
   "metadata": {},
   "outputs": [
    {
     "data": {
      "text/html": [
       "<div>\n",
       "<style scoped>\n",
       "    .dataframe tbody tr th:only-of-type {\n",
       "        vertical-align: middle;\n",
       "    }\n",
       "\n",
       "    .dataframe tbody tr th {\n",
       "        vertical-align: top;\n",
       "    }\n",
       "\n",
       "    .dataframe thead th {\n",
       "        text-align: right;\n",
       "    }\n",
       "</style>\n",
       "<table border=\"1\" class=\"dataframe\">\n",
       "  <thead>\n",
       "    <tr style=\"text-align: right;\">\n",
       "      <th></th>\n",
       "      <th>HMG</th>\n",
       "      <th>OLIG_PROTE_CD</th>\n",
       "      <th>CREATININE</th>\n",
       "      <th>SGPT_ALT</th>\n",
       "    </tr>\n",
       "  </thead>\n",
       "  <tbody>\n",
       "    <tr>\n",
       "      <th>0</th>\n",
       "      <td>14.0</td>\n",
       "      <td>1.0</td>\n",
       "      <td>0.0</td>\n",
       "      <td>20.0</td>\n",
       "    </tr>\n",
       "    <tr>\n",
       "      <th>1</th>\n",
       "      <td>13.0</td>\n",
       "      <td>1.0</td>\n",
       "      <td>0.0</td>\n",
       "      <td>69.0</td>\n",
       "    </tr>\n",
       "    <tr>\n",
       "      <th>2</th>\n",
       "      <td>14.0</td>\n",
       "      <td>1.0</td>\n",
       "      <td>0.0</td>\n",
       "      <td>26.0</td>\n",
       "    </tr>\n",
       "    <tr>\n",
       "      <th>3</th>\n",
       "      <td>15.0</td>\n",
       "      <td>1.0</td>\n",
       "      <td>0.0</td>\n",
       "      <td>17.0</td>\n",
       "    </tr>\n",
       "    <tr>\n",
       "      <th>4</th>\n",
       "      <td>15.0</td>\n",
       "      <td>1.0</td>\n",
       "      <td>1.0</td>\n",
       "      <td>40.0</td>\n",
       "    </tr>\n",
       "  </tbody>\n",
       "</table>\n",
       "</div>"
      ],
      "text/plain": [
       "    HMG  OLIG_PROTE_CD  CREATININE  SGPT_ALT\n",
       "0  14.0            1.0         0.0      20.0\n",
       "1  13.0            1.0         0.0      69.0\n",
       "2  14.0            1.0         0.0      26.0\n",
       "3  15.0            1.0         0.0      17.0\n",
       "4  15.0            1.0         1.0      40.0"
      ]
     },
     "execution_count": 28,
     "metadata": {},
     "output_type": "execute_result"
    }
   ],
   "source": [
    "data.head()"
   ]
  },
  {
   "cell_type": "code",
   "execution_count": 48,
   "id": "e1547aab",
   "metadata": {},
   "outputs": [],
   "source": [
    "# 'D' 열의 상위 5개의 데이터를 출력\n",
    "# target.head()\n",
    "# D' 열의 각 클래스(0 또는 1)별 데이터 개수를 세어 출력\n",
    "# target.value_counts()\n",
    "# 훈련 데이터셋 feature 데이터의 행과 열의 개수\n",
    "# data.shape\n",
    "# 검증 데이터셋 feature 데이터의 행과 열의 개수\n",
    "# X_val.shape"
   ]
  },
  {
   "cell_type": "code",
   "execution_count": 30,
   "id": "a1b287d4",
   "metadata": {},
   "outputs": [
    {
     "name": "stdout",
     "output_type": "stream",
     "text": [
      "57155 6351\n"
     ]
    },
    {
     "data": {
      "text/html": [
       "<style>#sk-container-id-2 {color: black;}#sk-container-id-2 pre{padding: 0;}#sk-container-id-2 div.sk-toggleable {background-color: white;}#sk-container-id-2 label.sk-toggleable__label {cursor: pointer;display: block;width: 100%;margin-bottom: 0;padding: 0.3em;box-sizing: border-box;text-align: center;}#sk-container-id-2 label.sk-toggleable__label-arrow:before {content: \"▸\";float: left;margin-right: 0.25em;color: #696969;}#sk-container-id-2 label.sk-toggleable__label-arrow:hover:before {color: black;}#sk-container-id-2 div.sk-estimator:hover label.sk-toggleable__label-arrow:before {color: black;}#sk-container-id-2 div.sk-toggleable__content {max-height: 0;max-width: 0;overflow: hidden;text-align: left;background-color: #f0f8ff;}#sk-container-id-2 div.sk-toggleable__content pre {margin: 0.2em;color: black;border-radius: 0.25em;background-color: #f0f8ff;}#sk-container-id-2 input.sk-toggleable__control:checked~div.sk-toggleable__content {max-height: 200px;max-width: 100%;overflow: auto;}#sk-container-id-2 input.sk-toggleable__control:checked~label.sk-toggleable__label-arrow:before {content: \"▾\";}#sk-container-id-2 div.sk-estimator input.sk-toggleable__control:checked~label.sk-toggleable__label {background-color: #d4ebff;}#sk-container-id-2 div.sk-label input.sk-toggleable__control:checked~label.sk-toggleable__label {background-color: #d4ebff;}#sk-container-id-2 input.sk-hidden--visually {border: 0;clip: rect(1px 1px 1px 1px);clip: rect(1px, 1px, 1px, 1px);height: 1px;margin: -1px;overflow: hidden;padding: 0;position: absolute;width: 1px;}#sk-container-id-2 div.sk-estimator {font-family: monospace;background-color: #f0f8ff;border: 1px dotted black;border-radius: 0.25em;box-sizing: border-box;margin-bottom: 0.5em;}#sk-container-id-2 div.sk-estimator:hover {background-color: #d4ebff;}#sk-container-id-2 div.sk-parallel-item::after {content: \"\";width: 100%;border-bottom: 1px solid gray;flex-grow: 1;}#sk-container-id-2 div.sk-label:hover label.sk-toggleable__label {background-color: #d4ebff;}#sk-container-id-2 div.sk-serial::before {content: \"\";position: absolute;border-left: 1px solid gray;box-sizing: border-box;top: 0;bottom: 0;left: 50%;z-index: 0;}#sk-container-id-2 div.sk-serial {display: flex;flex-direction: column;align-items: center;background-color: white;padding-right: 0.2em;padding-left: 0.2em;position: relative;}#sk-container-id-2 div.sk-item {position: relative;z-index: 1;}#sk-container-id-2 div.sk-parallel {display: flex;align-items: stretch;justify-content: center;background-color: white;position: relative;}#sk-container-id-2 div.sk-item::before, #sk-container-id-2 div.sk-parallel-item::before {content: \"\";position: absolute;border-left: 1px solid gray;box-sizing: border-box;top: 0;bottom: 0;left: 50%;z-index: -1;}#sk-container-id-2 div.sk-parallel-item {display: flex;flex-direction: column;z-index: 1;position: relative;background-color: white;}#sk-container-id-2 div.sk-parallel-item:first-child::after {align-self: flex-end;width: 50%;}#sk-container-id-2 div.sk-parallel-item:last-child::after {align-self: flex-start;width: 50%;}#sk-container-id-2 div.sk-parallel-item:only-child::after {width: 0;}#sk-container-id-2 div.sk-dashed-wrapped {border: 1px dashed gray;margin: 0 0.4em 0.5em 0.4em;box-sizing: border-box;padding-bottom: 0.4em;background-color: white;}#sk-container-id-2 div.sk-label label {font-family: monospace;font-weight: bold;display: inline-block;line-height: 1.2em;}#sk-container-id-2 div.sk-label-container {text-align: center;}#sk-container-id-2 div.sk-container {/* jupyter's `normalize.less` sets `[hidden] { display: none; }` but bootstrap.min.css set `[hidden] { display: none !important; }` so we also need the `!important` here to be able to override the default hidden behavior on the sphinx rendered scikit-learn.org. See: https://github.com/scikit-learn/scikit-learn/issues/21755 */display: inline-block !important;position: relative;}#sk-container-id-2 div.sk-text-repr-fallback {display: none;}</style><div id=\"sk-container-id-2\" class=\"sk-top-container\"><div class=\"sk-text-repr-fallback\"><pre>XGBClassifier(base_score=None, booster=None, callbacks=None,\n",
       "              colsample_bylevel=None, colsample_bynode=None,\n",
       "              colsample_bytree=0.8, device=None, early_stopping_rounds=None,\n",
       "              enable_categorical=False, eval_metric=None, feature_types=None,\n",
       "              gamma=0, grow_policy=None, importance_type=None,\n",
       "              interaction_constraints=None, learning_rate=0.08, max_bin=None,\n",
       "              max_cat_threshold=None, max_cat_to_onehot=None,\n",
       "              max_delta_step=None, max_depth=7, max_leaves=None,\n",
       "              min_child_weight=None, missing=nan, monotone_constraints=None,\n",
       "              multi_strategy=None, n_estimators=100, n_jobs=None,\n",
       "              num_parallel_tree=None, random_state=None, ...)</pre><b>In a Jupyter environment, please rerun this cell to show the HTML representation or trust the notebook. <br />On GitHub, the HTML representation is unable to render, please try loading this page with nbviewer.org.</b></div><div class=\"sk-container\" hidden><div class=\"sk-item\"><div class=\"sk-estimator sk-toggleable\"><input class=\"sk-toggleable__control sk-hidden--visually\" id=\"sk-estimator-id-2\" type=\"checkbox\" checked><label for=\"sk-estimator-id-2\" class=\"sk-toggleable__label sk-toggleable__label-arrow\">XGBClassifier</label><div class=\"sk-toggleable__content\"><pre>XGBClassifier(base_score=None, booster=None, callbacks=None,\n",
       "              colsample_bylevel=None, colsample_bynode=None,\n",
       "              colsample_bytree=0.8, device=None, early_stopping_rounds=None,\n",
       "              enable_categorical=False, eval_metric=None, feature_types=None,\n",
       "              gamma=0, grow_policy=None, importance_type=None,\n",
       "              interaction_constraints=None, learning_rate=0.08, max_bin=None,\n",
       "              max_cat_threshold=None, max_cat_to_onehot=None,\n",
       "              max_delta_step=None, max_depth=7, max_leaves=None,\n",
       "              min_child_weight=None, missing=nan, monotone_constraints=None,\n",
       "              multi_strategy=None, n_estimators=100, n_jobs=None,\n",
       "              num_parallel_tree=None, random_state=None, ...)</pre></div></div></div></div></div>"
      ],
      "text/plain": [
       "XGBClassifier(base_score=None, booster=None, callbacks=None,\n",
       "              colsample_bylevel=None, colsample_bynode=None,\n",
       "              colsample_bytree=0.8, device=None, early_stopping_rounds=None,\n",
       "              enable_categorical=False, eval_metric=None, feature_types=None,\n",
       "              gamma=0, grow_policy=None, importance_type=None,\n",
       "              interaction_constraints=None, learning_rate=0.08, max_bin=None,\n",
       "              max_cat_threshold=None, max_cat_to_onehot=None,\n",
       "              max_delta_step=None, max_depth=7, max_leaves=None,\n",
       "              min_child_weight=None, missing=nan, monotone_constraints=None,\n",
       "              multi_strategy=None, n_estimators=100, n_jobs=None,\n",
       "              num_parallel_tree=None, random_state=None, ...)"
      ]
     },
     "execution_count": 30,
     "metadata": {},
     "output_type": "execute_result"
    }
   ],
   "source": [
    "import xgboost\n",
    "import matplotlib.pyplot as plt\n",
    "from sklearn.model_selection import train_test_split\n",
    "from sklearn.metrics import explained_variance_score\n",
    "\n",
    "\n",
    "# 데이터를 훈련 세트와 테스트 세트로 분할\n",
    "X_train, X_test, y_train, y_test = train_test_split(data, target, test_size=0.1, stratify=target)\n",
    "\n",
    "# XGBoost 분류 모델 생성 및 하이퍼파라미터 설정\n",
    "xgb_model = xgboost.XGBClassifier(\n",
    "    n_estimators=100,        # 트리의 개수\n",
    "    learning_rate=0.08,      # 학습률\n",
    "    gamma=0,                 # 분할을 할 때 필요한 최소 손실 감소\n",
    "    subsample=0.75,          # 훈련 데이터의 샘플링 비율\n",
    "    colsample_bytree=0.8,    # 각 트리에 사용될 feature의 비율\n",
    "    max_depth=7              # 트리의 최대 깊이\n",
    ")\n",
    "\n",
    "# 훈련 세트의 크기 출력\n",
    "print(\"Number of samples in the training set:\", len(X_train))\n",
    "print(\"Number of samples in the testing set:\", len(X_test))\n",
    "\n",
    "# XGBoost 모델을 훈련 세트로 학습\n",
    "xgb_model.fit(X_train, y_train)"
   ]
  },
  {
   "cell_type": "code",
   "execution_count": 31,
   "id": "8e3d26d6",
   "metadata": {},
   "outputs": [
    {
     "data": {
      "text/plain": [
       "<Axes: title={'center': 'Feature importance'}, xlabel='F score', ylabel='Features'>"
      ]
     },
     "execution_count": 31,
     "metadata": {},
     "output_type": "execute_result"
    },
    {
     "data": {
      "image/png": "[encoded data removed]",
      "text/plain": [
       "<Figure size 640x480 with 1 Axes>"
      ]
     },
     "metadata": {},
     "output_type": "display_data"
    }
   ],
   "source": [
    "# XGBoost 모델에서 feature 중요도를 시각화\n",
    "xgboost.plot_importance(xgb_model)"
   ]
  },
  {
   "cell_type": "code",
   "execution_count": 32,
   "id": "732f2b26",
   "metadata": {},
   "outputs": [
    {
     "data": {
      "text/plain": [
       "array([1, 1, 1, ..., 1, 1, 0])"
      ]
     },
     "execution_count": 32,
     "metadata": {},
     "output_type": "execute_result"
    }
   ],
   "source": [
    "# 테스트 세트에 대한 예측 수행\n",
    "predictions = xgb_model.predict(X_test)\n",
    "predictions"
   ]
  },
  {
   "cell_type": "code",
   "execution_count": 33,
   "id": "6f968ec8",
   "metadata": {},
   "outputs": [
    {
     "data": {
      "text/plain": [
       "2867"
      ]
     },
     "execution_count": 33,
     "metadata": {},
     "output_type": "execute_result"
    }
   ],
   "source": [
    "# 테스트 세트에 대한 예측 결과 중에서 클래스가 1인(양성 클래스) 샘플의 합계\n",
    "predictions.sum()"
   ]
  },
  {
   "cell_type": "code",
   "execution_count": 34,
   "id": "b260411f",
   "metadata": {},
   "outputs": [
    {
     "name": "stdout",
     "output_type": "stream",
     "text": [
      "0.9510279065698539\n",
      "0.8062821040086787\n"
     ]
    }
   ],
   "source": [
    "r_sq = xgb_model.score(X_train, y_train)\n",
    "print(r_sq)\n",
    "print(explained_variance_score(predictions,y_test))"
   ]
  },
  {
   "cell_type": "code",
   "execution_count": 35,
   "metadata": {},
   "outputs": [
    {
     "data": {
      "text/plain": [
       "array([0, 0, 1, ..., 0, 0, 0])"
      ]
     },
     "execution_count": 35,
     "metadata": {},
     "output_type": "execute_result"
    }
   ],
   "source": [
    "# predict 메서드를 사용하여 모델이 학습한 패턴을 기반으로 각 샘플에 대한 예측 클래스를 반환\n",
    "predictionsv = xgb_model.predict(X_val)\n",
    "predictionsv"
   ]
  },
  {
   "cell_type": "code",
   "execution_count": 36,
   "metadata": {},
   "outputs": [
    {
     "name": "stdout",
     "output_type": "stream",
     "text": [
      "0.9482793117246898\n"
     ]
    }
   ],
   "source": [
    "# XGBoost 모델이 검증 세트에 대해서 얼마나 잘 적합되었는지를 나타내는 결정 계수(R-squared)를 출력\n",
    "r_sq = xgb_model.score(X_val, y_val)\n",
    "print(r_sq)"
   ]
  },
  {
   "cell_type": "code",
   "execution_count": 37,
   "metadata": {},
   "outputs": [],
   "source": [
    "from sklearn.neural_network import MLPClassifier\n",
    "import sklearn.metrics as metrics\n",
    "from sklearn.metrics import confusion_matrix, ConfusionMatrixDisplay"
   ]
  },
  {
   "cell_type": "code",
   "execution_count": 38,
   "id": "feba390e",
   "metadata": {},
   "outputs": [
    {
     "name": "stdout",
     "output_type": "stream",
     "text": [
      "0.9503455515702913\n"
     ]
    }
   ],
   "source": [
    "# 다층 퍼셉트론(MLP) 분류기 모델 생성\n",
    "rg = MLPClassifier(solver = \"adam\", hidden_layer_sizes = 100, random_state = 1)\n",
    "# 모델 학습\n",
    "rg.fit(X_train,y_train)\n",
    "# 테스트 세트에 대한 예측 수행\n",
    "rg.predict(X_test)\n",
    "# 훈련 세트에 대한 결정 계수(R-squared) 출력\n",
    "r_sq = rg.score(X_train,y_train)\n",
    "print(r_sq)"
   ]
  },
  {
   "cell_type": "code",
   "execution_count": 51,
   "metadata": {},
   "outputs": [
    {
     "name": "stdout",
     "output_type": "stream",
     "text": [
      "예측 결과 길이: 6351\n",
      "실제 레이블 길이: 6351\n"
     ]
    }
   ],
   "source": [
    "# 예측 결과와 실제 레이블의 길이 출력\n",
    "print(\"예측 결과 길이:\", len(predictions))\n",
    "print(\"실제 레이블 길이:\", len(y_test))"
   ]
  },
  {
   "cell_type": "code",
   "execution_count": 40,
   "id": "f4884be7",
   "metadata": {},
   "outputs": [
    {
     "name": "stdout",
     "output_type": "stream",
     "text": [
      "[[3168    4]\n",
      " [ 316 2863]]\n",
      "Accuracy: 0.949614233978901\n",
      "Precision: 0.9986048133937914\n",
      "Recall: 0.9005976722239698\n",
      "F1 score: 0.9470724445914653\n"
     ]
    }
   ],
   "source": [
    "cm = confusion_matrix(y_test, predictions)\n",
    "print(cm)\n",
    "\n",
    "# Calculate the accuracy.\n",
    "accuracy = metrics.accuracy_score(y_test, predictions)\n",
    "\n",
    "# Calculate the precision.\n",
    "precision = metrics.precision_score(y_test, predictions)\n",
    "\n",
    "# Calculate the recall.\n",
    "recall = metrics.recall_score(y_test, predictions)\n",
    "\n",
    "# Calculate the F1 score.\n",
    "f1_score = metrics.f1_score(y_test, predictions)\n",
    "\n",
    "# Print the results.\n",
    "print('Accuracy:', accuracy)\n",
    "print('Precision:', precision)\n",
    "print('Recall:', recall)\n",
    "print('F1 score:', f1_score)"
   ]
  },
  {
   "cell_type": "code",
   "execution_count": 41,
   "metadata": {},
   "outputs": [
    {
     "data": {
      "image/png": "[encoded data removed]",
      "text/plain": [
       "<Figure size 640x480 with 2 Axes>"
      ]
     },
     "metadata": {},
     "output_type": "display_data"
    }
   ],
   "source": [
    "disp = ConfusionMatrixDisplay(confusion_matrix=cm,\n",
    "                               display_labels=xgb_model.classes_)\n",
    "disp.plot()\n",
    "plt.show()"
   ]
  },
  {
   "cell_type": "code",
   "execution_count": 42,
   "metadata": {},
   "outputs": [
    {
     "name": "stdout",
     "output_type": "stream",
     "text": [
      "[[5035    5]\n",
      " [ 512 4444]]\n",
      "Accuracy: 0.9482793117246898\n",
      "Precision: 0.9988761519442572\n",
      "Recall: 0.8966908797417272\n",
      "F1 score: 0.945029239766082\n"
     ]
    }
   ],
   "source": [
    "cm = confusion_matrix(y_val, predictionsv)\n",
    "print(cm)\n",
    "\n",
    "# Calculate the accuracy.\n",
    "accuracy = metrics.accuracy_score(y_val, predictionsv)\n",
    "\n",
    "# Calculate the precision.\n",
    "precision = metrics.precision_score(y_val, predictionsv)\n",
    "\n",
    "# Calculate the recall.\n",
    "recall = metrics.recall_score(y_val, predictionsv)\n",
    "\n",
    "# Calculate the F1 score.\n",
    "f1_score = metrics.f1_score(y_val, predictionsv)\n",
    "\n",
    "# Print the results.\n",
    "print('Accuracy:', accuracy)\n",
    "print('Precision:', precision)\n",
    "print('Recall:', recall)\n",
    "print('F1 score:', f1_score)"
   ]
  }
 ],
 "metadata": {
  "kernelspec": {
   "display_name": "Python 3 (ipykernel)",
   "language": "python",
   "name": "python3"
  },
  "language_info": {
   "codemirror_mode": {
    "name": "ipython",
    "version": 3
   },
   "file_extension": ".py",
   "mimetype": "text/x-python",
   "name": "python",
   "nbconvert_exporter": "python",
   "pygments_lexer": "ipython3",
   "version": "3.10.13"
  }
 },
 "nbformat": 4,
 "nbformat_minor": 5
}
