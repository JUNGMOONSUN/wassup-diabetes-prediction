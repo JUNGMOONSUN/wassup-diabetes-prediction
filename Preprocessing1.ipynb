{
 "cells": [
  {
   "cell_type": "code",
   "execution_count": 1,
   "metadata": {},
   "outputs": [],
   "source": [
    "import numpy as np\n",
    "import pandas as pd\n",
    "import torch\n",
    "from torch.autograd import Variable\n",
    "from sklearn.model_selection import KFold\n",
    "import matplotlib.pyplot as plt\n",
    "import seaborn as sns"
   ]
  },
  {
   "cell_type": "code",
   "execution_count": 2,
   "metadata": {},
   "outputs": [],
   "source": [
    "origin = pd.read_csv(\"./data/Origin.csv\")"
   ]
  },
  {
   "cell_type": "code",
   "execution_count": 3,
   "metadata": {},
   "outputs": [
    {
     "data": {
      "image/png": "[encoded data removed]",
      "text/plain": [
       "<Figure size 640x480 with 1 Axes>"
      ]
     },
     "metadata": {},
     "output_type": "display_data"
    }
   ],
   "source": [
    "plt.hist(origin.BLDS, bins=500)\n",
    "plt.xlabel('BLDS')\n",
    "plt.ylabel('Count')\n",
    "plt.title('Distribution of BLDS in the Training Data')\n",
    "plt.show()"
   ]
  },
  {
   "cell_type": "code",
   "execution_count": 4,
   "metadata": {},
   "outputs": [],
   "source": [
    "origin = origin.dropna(subset=['OLIG_PROTE_CD'])"
   ]
  },
  {
   "cell_type": "code",
   "execution_count": 5,
   "metadata": {},
   "outputs": [
    {
     "data": {
      "text/plain": [
       "TTR_YN\n",
       "0.0    150213\n",
       "1.0    149297\n",
       "2.0     15897\n",
       "Name: count, dtype: int64"
      ]
     },
     "execution_count": 5,
     "metadata": {},
     "output_type": "execute_result"
    }
   ],
   "source": [
    "origin.TTR_YN.value_counts()"
   ]
  },
  {
   "cell_type": "code",
   "execution_count": 6,
   "metadata": {},
   "outputs": [
    {
     "name": "stdout",
     "output_type": "stream",
     "text": [
      "<class 'pandas.core.frame.DataFrame'>\n",
      "Index: 414980 entries, 574465 to 999999\n",
      "Data columns (total 34 columns):\n",
      " #   Column             Non-Null Count   Dtype  \n",
      "---  ------             --------------   -----  \n",
      " 0   HCHK_YEAR          414980 non-null  int64  \n",
      " 1   IDV_ID             414980 non-null  int64  \n",
      " 2   SIDO               414980 non-null  int64  \n",
      " 3   SEX                414980 non-null  int64  \n",
      " 4   AGE_GROUP          414980 non-null  int64  \n",
      " 5   HEIGHT             414980 non-null  int64  \n",
      " 6   WEIGHT             414980 non-null  int64  \n",
      " 7   WAIST              414948 non-null  float64\n",
      " 8   SIGHT_LEFT         414901 non-null  float64\n",
      " 9   SIGHT_RIGHT        414904 non-null  float64\n",
      " 10  HEAR_LEFT          414901 non-null  float64\n",
      " 11  HEAR_RIGHT         414902 non-null  float64\n",
      " 12  BP_HIGH            414974 non-null  float64\n",
      " 13  BP_LWST            414973 non-null  float64\n",
      " 14  BLDS               414980 non-null  float64\n",
      " 15  TOT_CHOLE          414980 non-null  float64\n",
      " 16  TRIGLYCERIDE       414980 non-null  float64\n",
      " 17  HDL_CHOLE          414980 non-null  float64\n",
      " 18  LDL_CHOLE          414980 non-null  float64\n",
      " 19  HMG                414977 non-null  float64\n",
      " 20  OLIG_PROTE_CD      414980 non-null  float64\n",
      " 21  CREATININE         414980 non-null  float64\n",
      " 22  SGOT_AST           414980 non-null  float64\n",
      " 23  SGPT_ALT           414980 non-null  float64\n",
      " 24  GAMMA_GTP          414980 non-null  float64\n",
      " 25  SMK_STAT_TYPE_CD   414811 non-null  float64\n",
      " 26  DRK_YN             414904 non-null  float64\n",
      " 27  HCHK_OE_INSPEC_YN  414980 non-null  int64  \n",
      " 28  CRS_YN             127518 non-null  float64\n",
      " 29  TTH_MSS_YN         0 non-null       float64\n",
      " 30  ODT_TRB_YN         0 non-null       float64\n",
      " 31  WSDM_DIS_YN        0 non-null       float64\n",
      " 32  TTR_YN             127519 non-null  float64\n",
      " 33  DATA_STD_DT        414980 non-null  object \n",
      "dtypes: float64(25), int64(8), object(1)\n",
      "memory usage: 110.8+ MB\n"
     ]
    }
   ],
   "source": [
    "origin_df = origin.dropna(subset=['TOT_CHOLE','TRIGLYCERIDE','HDL_CHOLE','LDL_CHOLE']) #콜레스트롤\n",
    "origin_df = origin_df.dropna(subset=['BLDS'])\n",
    "origin_df.info()"
   ]
  },
  {
   "cell_type": "code",
   "execution_count": 7,
   "metadata": {},
   "outputs": [],
   "source": [
    "# origin_df = origin_df.sample(frac=1)"
   ]
  },
  {
   "cell_type": "code",
   "execution_count": 8,
   "metadata": {},
   "outputs": [
    {
     "data": {
      "text/plain": [
       "0"
      ]
     },
     "execution_count": 8,
     "metadata": {},
     "output_type": "execute_result"
    }
   ],
   "source": [
    "origin_df.BLDS.isnull().sum()"
   ]
  },
  {
   "cell_type": "code",
   "execution_count": 9,
   "metadata": {},
   "outputs": [],
   "source": [
    "origin_df['D'] = origin_df['BLDS'].apply(lambda x : 1 if x >= 126 else 0)"
   ]
  },
  {
   "cell_type": "code",
   "execution_count": 10,
   "metadata": {},
   "outputs": [],
   "source": [
    "origin_df.to_csv('./data/origin_df.csv')"
   ]
  }
 ],
 "metadata": {
  "kernelspec": {
   "display_name": "MathAI",
   "language": "python",
   "name": "python3"
  },
  "language_info": {
   "codemirror_mode": {
    "name": "ipython",
    "version": 3
   },
   "file_extension": ".py",
   "mimetype": "text/x-python",
   "name": "python",
   "nbconvert_exporter": "python",
   "pygments_lexer": "ipython3",
   "version": "3.10.13"
  }
 },
 "nbformat": 4,
 "nbformat_minor": 2
}
